{
 "cells": [
  {
   "cell_type": "markdown",
   "id": "58ce9484-6724-495c-b0f0-e6b20000c972",
   "metadata": {},
   "source": [
    "# 1.Create a dataset with 10 million records, 5 well labelled fields including a date column"
   ]
  },
  {
   "cell_type": "code",
   "execution_count": 2,
   "id": "73552eca-ee6c-4e8d-905d-3cb3ba009db4",
   "metadata": {},
   "outputs": [],
   "source": [
    "import pandas as pd\n",
    "import numpy as np\n",
    "import random"
   ]
  },
  {
   "cell_type": "code",
   "execution_count": 3,
   "id": "62303f6d-ef0e-454c-a902-3dde55b2445d",
   "metadata": {},
   "outputs": [],
   "source": [
    "# set seed for reproducibility to ensure that random operations produces same result every time the code is run.\n",
    "\n",
    "np.random.seed(0)\n",
    "random.seed(0)"
   ]
  },
  {
   "cell_type": "code",
   "execution_count": 4,
   "id": "ab7c4ff1-3c38-4db7-9a53-6abec7aea452",
   "metadata": {},
   "outputs": [],
   "source": [
    "# define list of names\n",
    "\n",
    "names = ['John', 'Linus', 'Jane', 'Ava', 'Brown', 'Moore', 'Wilson', 'Amy','James', 'Sarah']"
   ]
  },
  {
   "cell_type": "code",
   "execution_count": 5,
   "id": "970f857e-4128-48b6-8dcc-aa6843b8add3",
   "metadata": {},
   "outputs": [],
   "source": [
    "# define column names and data types .\n",
    "\n",
    "start_date = '2020-01-01'             \n",
    "data = {\n",
    "    'id': np.arange(1, 10_000_001),\n",
    "    'date':\n",
    "pd.date_range(start=start_date, periods=10_000_000, freq='min'),\n",
    "    'name': [f\"{random.choice(names)}\" for _ in range(10_000_000)],\n",
    "    'age': np.random.randint(18,80, size=10_000_000),\n",
    "    'employed': np.random.choice([True,False], size=10_000_000)\n",
    "}"
   ]
  },
  {
   "cell_type": "code",
   "execution_count": 6,
   "id": "bf383948-d5b4-4c06-9ee6-62c221845bb9",
   "metadata": {},
   "outputs": [
    {
     "name": "stdout",
     "output_type": "stream",
     "text": [
      "id: 10000000\n",
      "date: 10000000\n",
      "name: 10000000\n",
      "age: 10000000\n",
      "employed: 10000000\n"
     ]
    }
   ],
   "source": [
    "# to check array length(optional)\n",
    "\n",
    "for key, value in data.items():\n",
    "    print(f\"{key}: {len(value)}\")"
   ]
  },
  {
   "cell_type": "code",
   "execution_count": 7,
   "id": "8092ba5b-4ad7-4cc1-bf3e-10c79d4faabd",
   "metadata": {},
   "outputs": [],
   "source": [
    "# convert it to a dataframe\n",
    "\n",
    "df = pd.DataFrame(data)"
   ]
  },
  {
   "cell_type": "code",
   "execution_count": 8,
   "id": "a848899d-8b95-40fd-a5d3-7f50a27db99f",
   "metadata": {},
   "outputs": [
    {
     "data": {
      "text/html": [
       "<div>\n",
       "<style scoped>\n",
       "    .dataframe tbody tr th:only-of-type {\n",
       "        vertical-align: middle;\n",
       "    }\n",
       "\n",
       "    .dataframe tbody tr th {\n",
       "        vertical-align: top;\n",
       "    }\n",
       "\n",
       "    .dataframe thead th {\n",
       "        text-align: right;\n",
       "    }\n",
       "</style>\n",
       "<table border=\"1\" class=\"dataframe\">\n",
       "  <thead>\n",
       "    <tr style=\"text-align: right;\">\n",
       "      <th></th>\n",
       "      <th>id</th>\n",
       "      <th>date</th>\n",
       "      <th>name</th>\n",
       "      <th>age</th>\n",
       "      <th>employed</th>\n",
       "    </tr>\n",
       "  </thead>\n",
       "  <tbody>\n",
       "    <tr>\n",
       "      <th>0</th>\n",
       "      <td>1</td>\n",
       "      <td>2020-01-01 00:00:00</td>\n",
       "      <td>Wilson</td>\n",
       "      <td>62</td>\n",
       "      <td>False</td>\n",
       "    </tr>\n",
       "    <tr>\n",
       "      <th>1</th>\n",
       "      <td>2</td>\n",
       "      <td>2020-01-01 00:01:00</td>\n",
       "      <td>Wilson</td>\n",
       "      <td>65</td>\n",
       "      <td>False</td>\n",
       "    </tr>\n",
       "    <tr>\n",
       "      <th>2</th>\n",
       "      <td>3</td>\n",
       "      <td>2020-01-01 00:02:00</td>\n",
       "      <td>John</td>\n",
       "      <td>71</td>\n",
       "      <td>True</td>\n",
       "    </tr>\n",
       "    <tr>\n",
       "      <th>3</th>\n",
       "      <td>4</td>\n",
       "      <td>2020-01-01 00:03:00</td>\n",
       "      <td>Brown</td>\n",
       "      <td>18</td>\n",
       "      <td>False</td>\n",
       "    </tr>\n",
       "    <tr>\n",
       "      <th>4</th>\n",
       "      <td>5</td>\n",
       "      <td>2020-01-01 00:04:00</td>\n",
       "      <td>James</td>\n",
       "      <td>21</td>\n",
       "      <td>True</td>\n",
       "    </tr>\n",
       "    <tr>\n",
       "      <th>...</th>\n",
       "      <td>...</td>\n",
       "      <td>...</td>\n",
       "      <td>...</td>\n",
       "      <td>...</td>\n",
       "      <td>...</td>\n",
       "    </tr>\n",
       "    <tr>\n",
       "      <th>9999995</th>\n",
       "      <td>9999996</td>\n",
       "      <td>2039-01-05 10:35:00</td>\n",
       "      <td>Sarah</td>\n",
       "      <td>60</td>\n",
       "      <td>False</td>\n",
       "    </tr>\n",
       "    <tr>\n",
       "      <th>9999996</th>\n",
       "      <td>9999997</td>\n",
       "      <td>2039-01-05 10:36:00</td>\n",
       "      <td>Ava</td>\n",
       "      <td>52</td>\n",
       "      <td>False</td>\n",
       "    </tr>\n",
       "    <tr>\n",
       "      <th>9999997</th>\n",
       "      <td>9999998</td>\n",
       "      <td>2039-01-05 10:37:00</td>\n",
       "      <td>Ava</td>\n",
       "      <td>61</td>\n",
       "      <td>False</td>\n",
       "    </tr>\n",
       "    <tr>\n",
       "      <th>9999998</th>\n",
       "      <td>9999999</td>\n",
       "      <td>2039-01-05 10:38:00</td>\n",
       "      <td>Jane</td>\n",
       "      <td>44</td>\n",
       "      <td>False</td>\n",
       "    </tr>\n",
       "    <tr>\n",
       "      <th>9999999</th>\n",
       "      <td>10000000</td>\n",
       "      <td>2039-01-05 10:39:00</td>\n",
       "      <td>James</td>\n",
       "      <td>32</td>\n",
       "      <td>False</td>\n",
       "    </tr>\n",
       "  </tbody>\n",
       "</table>\n",
       "<p>10000000 rows × 5 columns</p>\n",
       "</div>"
      ],
      "text/plain": [
       "               id                date    name  age  employed\n",
       "0               1 2020-01-01 00:00:00  Wilson   62     False\n",
       "1               2 2020-01-01 00:01:00  Wilson   65     False\n",
       "2               3 2020-01-01 00:02:00    John   71      True\n",
       "3               4 2020-01-01 00:03:00   Brown   18     False\n",
       "4               5 2020-01-01 00:04:00   James   21      True\n",
       "...           ...                 ...     ...  ...       ...\n",
       "9999995   9999996 2039-01-05 10:35:00   Sarah   60     False\n",
       "9999996   9999997 2039-01-05 10:36:00     Ava   52     False\n",
       "9999997   9999998 2039-01-05 10:37:00     Ava   61     False\n",
       "9999998   9999999 2039-01-05 10:38:00    Jane   44     False\n",
       "9999999  10000000 2039-01-05 10:39:00   James   32     False\n",
       "\n",
       "[10000000 rows x 5 columns]"
      ]
     },
     "execution_count": 8,
     "metadata": {},
     "output_type": "execute_result"
    }
   ],
   "source": [
    "df"
   ]
  },
  {
   "cell_type": "code",
   "execution_count": 9,
   "id": "03605cb0-83da-4932-913b-4bbe010df30b",
   "metadata": {},
   "outputs": [],
   "source": [
    "# lets save it to csv\n",
    "\n",
    "df.to_csv('10_million_records.csv', index=False)"
   ]
  },
  {
   "cell_type": "code",
   "execution_count": null,
   "id": "4ad4f508-c0cc-49c2-9036-c4a6a357a294",
   "metadata": {},
   "outputs": [],
   "source": []
  },
  {
   "cell_type": "code",
   "execution_count": null,
   "id": "af0d4be9-ebab-4ec5-b9bd-ac08ac11564d",
   "metadata": {},
   "outputs": [],
   "source": []
  },
  {
   "cell_type": "code",
   "execution_count": null,
   "id": "64184bc4-12d1-4011-aeb2-04d03b08a312",
   "metadata": {},
   "outputs": [],
   "source": []
  },
  {
   "cell_type": "code",
   "execution_count": null,
   "id": "e81fc9a3-3146-472a-bb49-1526db80d444",
   "metadata": {},
   "outputs": [],
   "source": []
  },
  {
   "cell_type": "code",
   "execution_count": null,
   "id": "cc2d01b5-14fe-40b9-bfa8-88c77d1e00da",
   "metadata": {},
   "outputs": [],
   "source": []
  }
 ],
 "metadata": {
  "kernelspec": {
   "display_name": "Python 3 (ipykernel)",
   "language": "python",
   "name": "python3"
  },
  "language_info": {
   "codemirror_mode": {
    "name": "ipython",
    "version": 3
   },
   "file_extension": ".py",
   "mimetype": "text/x-python",
   "name": "python",
   "nbconvert_exporter": "python",
   "pygments_lexer": "ipython3",
   "version": "3.12.4"
  }
 },
 "nbformat": 4,
 "nbformat_minor": 5
}
